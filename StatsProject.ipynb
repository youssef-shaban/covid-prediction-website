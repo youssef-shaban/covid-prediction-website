{
  "nbformat": 4,
  "nbformat_minor": 0,
  "metadata": {
    "colab": {
      "name": "StatsProject.ipynb",
      "provenance": []
    },
    "kernelspec": {
      "name": "python3",
      "display_name": "Python 3"
    },
    "language_info": {
      "name": "python"
    }
  },
  "cells": [
    {
      "cell_type": "code",
      "execution_count": null,
      "metadata": {
        "id": "n0xVEqYFNmSH",
        "colab": {
          "base_uri": "https://localhost:8080/"
        },
        "outputId": "508adb4b-8d31-4187-80e9-76e2e1df9a5b"
      },
      "outputs": [
        {
          "output_type": "stream",
          "name": "stdout",
          "text": [
            "Requirement already satisfied: kaggle in /usr/local/lib/python3.7/dist-packages (1.5.12)\n",
            "Requirement already satisfied: six>=1.10 in /usr/local/lib/python3.7/dist-packages (from kaggle) (1.15.0)\n",
            "Requirement already satisfied: requests in /usr/local/lib/python3.7/dist-packages (from kaggle) (2.23.0)\n",
            "Requirement already satisfied: certifi in /usr/local/lib/python3.7/dist-packages (from kaggle) (2021.10.8)\n",
            "Requirement already satisfied: urllib3 in /usr/local/lib/python3.7/dist-packages (from kaggle) (1.24.3)\n",
            "Requirement already satisfied: python-dateutil in /usr/local/lib/python3.7/dist-packages (from kaggle) (2.8.2)\n",
            "Requirement already satisfied: python-slugify in /usr/local/lib/python3.7/dist-packages (from kaggle) (6.1.2)\n",
            "Requirement already satisfied: tqdm in /usr/local/lib/python3.7/dist-packages (from kaggle) (4.64.0)\n",
            "Requirement already satisfied: text-unidecode>=1.3 in /usr/local/lib/python3.7/dist-packages (from python-slugify->kaggle) (1.3)\n",
            "Requirement already satisfied: idna<3,>=2.5 in /usr/local/lib/python3.7/dist-packages (from requests->kaggle) (2.10)\n",
            "Requirement already satisfied: chardet<4,>=3.0.2 in /usr/local/lib/python3.7/dist-packages (from requests->kaggle) (3.0.4)\n"
          ]
        }
      ],
      "source": [
        "! pip install kaggle\n",
        "! mkdir ~/.kaggle\n",
        "! cp kaggle.json ~/.kaggle/\n",
        "! chmod 600 ~/.kaggle/kaggle.json"
      ]
    },
    {
      "cell_type": "code",
      "source": [
        "! kaggle datasets download ankitachoudhury01/covid-patients-chest-xray"
      ],
      "metadata": {
        "colab": {
          "base_uri": "https://localhost:8080/"
        },
        "id": "S5lbiIkmPfWV",
        "outputId": "b013144a-60d5-41c0-b15a-3fa1b4044b29"
      },
      "execution_count": null,
      "outputs": [
        {
          "output_type": "stream",
          "name": "stdout",
          "text": [
            "Downloading covid-patients-chest-xray.zip to /content\n",
            "\r  0% 0.00/5.64M [00:00<?, ?B/s]\n",
            "\r100% 5.64M/5.64M [00:00<00:00, 112MB/s]\n"
          ]
        }
      ]
    },
    {
      "cell_type": "code",
      "source": [
        "! unzip covid-patients-chest-xray.zip"
      ],
      "metadata": {
        "id": "AQu1qXAGP3D1",
        "colab": {
          "base_uri": "https://localhost:8080/"
        },
        "outputId": "1c31b580-261a-4518-a33c-16bb92745343"
      },
      "execution_count": null,
      "outputs": [
        {
          "output_type": "stream",
          "name": "stdout",
          "text": [
            "Archive:  covid-patients-chest-xray.zip\n",
            "  inflating: COVID PATIENTS/COVID/covid_0.jpg  \n",
            "  inflating: COVID PATIENTS/COVID/covid_1.jpg  \n",
            "  inflating: COVID PATIENTS/COVID/covid_10.jpg  \n",
            "  inflating: COVID PATIENTS/COVID/covid_100.jpg  \n",
            "  inflating: COVID PATIENTS/COVID/covid_101.jpg  \n",
            "  inflating: COVID PATIENTS/COVID/covid_102.jpg  \n",
            "  inflating: COVID PATIENTS/COVID/covid_103.jpg  \n",
            "  inflating: COVID PATIENTS/COVID/covid_104.jpg  \n",
            "  inflating: COVID PATIENTS/COVID/covid_105.jpg  \n",
            "  inflating: COVID PATIENTS/COVID/covid_106.jpg  \n",
            "  inflating: COVID PATIENTS/COVID/covid_107.jpg  \n",
            "  inflating: COVID PATIENTS/COVID/covid_108.jpg  \n",
            "  inflating: COVID PATIENTS/COVID/covid_109.jpg  \n",
            "  inflating: COVID PATIENTS/COVID/covid_11.jpg  \n",
            "  inflating: COVID PATIENTS/COVID/covid_110.jpg  \n",
            "  inflating: COVID PATIENTS/COVID/covid_111.jpg  \n",
            "  inflating: COVID PATIENTS/COVID/covid_112.jpg  \n",
            "  inflating: COVID PATIENTS/COVID/covid_113.jpg  \n",
            "  inflating: COVID PATIENTS/COVID/covid_114.jpg  \n",
            "  inflating: COVID PATIENTS/COVID/covid_115.jpg  \n",
            "  inflating: COVID PATIENTS/COVID/covid_116.jpg  \n",
            "  inflating: COVID PATIENTS/COVID/covid_117.jpg  \n",
            "  inflating: COVID PATIENTS/COVID/covid_118.jpg  \n",
            "  inflating: COVID PATIENTS/COVID/covid_119.jpg  \n",
            "  inflating: COVID PATIENTS/COVID/covid_12.jpg  \n",
            "  inflating: COVID PATIENTS/COVID/covid_120.jpg  \n",
            "  inflating: COVID PATIENTS/COVID/covid_121.jpg  \n",
            "  inflating: COVID PATIENTS/COVID/covid_122.jpg  \n",
            "  inflating: COVID PATIENTS/COVID/covid_123.jpg  \n",
            "  inflating: COVID PATIENTS/COVID/covid_124.jpg  \n",
            "  inflating: COVID PATIENTS/COVID/covid_125.jpg  \n",
            "  inflating: COVID PATIENTS/COVID/covid_126.jpg  \n",
            "  inflating: COVID PATIENTS/COVID/covid_127.jpg  \n",
            "  inflating: COVID PATIENTS/COVID/covid_128.jpg  \n",
            "  inflating: COVID PATIENTS/COVID/covid_129.jpg  \n",
            "  inflating: COVID PATIENTS/COVID/covid_13.jpg  \n",
            "  inflating: COVID PATIENTS/COVID/covid_130.jpg  \n",
            "  inflating: COVID PATIENTS/COVID/covid_131.jpg  \n",
            "  inflating: COVID PATIENTS/COVID/covid_132.jpg  \n",
            "  inflating: COVID PATIENTS/COVID/covid_133.jpg  \n",
            "  inflating: COVID PATIENTS/COVID/covid_134.jpg  \n",
            "  inflating: COVID PATIENTS/COVID/covid_135.jpg  \n",
            "  inflating: COVID PATIENTS/COVID/covid_136.jpg  \n",
            "  inflating: COVID PATIENTS/COVID/covid_137.jpg  \n",
            "  inflating: COVID PATIENTS/COVID/covid_138.jpg  \n",
            "  inflating: COVID PATIENTS/COVID/covid_139.jpg  \n",
            "  inflating: COVID PATIENTS/COVID/covid_14.jpg  \n",
            "  inflating: COVID PATIENTS/COVID/covid_140.jpg  \n",
            "  inflating: COVID PATIENTS/COVID/covid_141.jpg  \n",
            "  inflating: COVID PATIENTS/COVID/covid_142.jpg  \n",
            "  inflating: COVID PATIENTS/COVID/covid_143.jpg  \n",
            "  inflating: COVID PATIENTS/COVID/covid_144.jpg  \n",
            "  inflating: COVID PATIENTS/COVID/covid_145.jpg  \n",
            "  inflating: COVID PATIENTS/COVID/covid_146.jpg  \n",
            "  inflating: COVID PATIENTS/COVID/covid_147.jpg  \n",
            "  inflating: COVID PATIENTS/COVID/covid_148.jpg  \n",
            "  inflating: COVID PATIENTS/COVID/covid_149.jpg  \n",
            "  inflating: COVID PATIENTS/COVID/covid_15.jpg  \n",
            "  inflating: COVID PATIENTS/COVID/covid_150.jpg  \n",
            "  inflating: COVID PATIENTS/COVID/covid_151.jpg  \n",
            "  inflating: COVID PATIENTS/COVID/covid_152.jpg  \n",
            "  inflating: COVID PATIENTS/COVID/covid_153.jpg  \n",
            "  inflating: COVID PATIENTS/COVID/covid_154.jpg  \n",
            "  inflating: COVID PATIENTS/COVID/covid_155.jpg  \n",
            "  inflating: COVID PATIENTS/COVID/covid_156.jpg  \n",
            "  inflating: COVID PATIENTS/COVID/covid_157.jpg  \n",
            "  inflating: COVID PATIENTS/COVID/covid_158.jpg  \n",
            "  inflating: COVID PATIENTS/COVID/covid_159.jpg  \n",
            "  inflating: COVID PATIENTS/COVID/covid_16.jpg  \n",
            "  inflating: COVID PATIENTS/COVID/covid_160.jpg  \n",
            "  inflating: COVID PATIENTS/COVID/covid_161.jpg  \n",
            "  inflating: COVID PATIENTS/COVID/covid_17.jpg  \n",
            "  inflating: COVID PATIENTS/COVID/covid_18.jpg  \n",
            "  inflating: COVID PATIENTS/COVID/covid_19.jpg  \n",
            "  inflating: COVID PATIENTS/COVID/covid_2.jpg  \n",
            "  inflating: COVID PATIENTS/COVID/covid_20.jpg  \n",
            "  inflating: COVID PATIENTS/COVID/covid_21.jpg  \n",
            "  inflating: COVID PATIENTS/COVID/covid_22.jpg  \n",
            "  inflating: COVID PATIENTS/COVID/covid_23.jpg  \n",
            "  inflating: COVID PATIENTS/COVID/covid_24.jpg  \n",
            "  inflating: COVID PATIENTS/COVID/covid_25.jpg  \n",
            "  inflating: COVID PATIENTS/COVID/covid_26.jpg  \n",
            "  inflating: COVID PATIENTS/COVID/covid_27.jpg  \n",
            "  inflating: COVID PATIENTS/COVID/covid_28.jpg  \n",
            "  inflating: COVID PATIENTS/COVID/covid_29.jpg  \n",
            "  inflating: COVID PATIENTS/COVID/covid_3.jpg  \n",
            "  inflating: COVID PATIENTS/COVID/covid_30.jpg  \n",
            "  inflating: COVID PATIENTS/COVID/covid_31.jpg  \n",
            "  inflating: COVID PATIENTS/COVID/covid_32.jpg  \n",
            "  inflating: COVID PATIENTS/COVID/covid_33.jpg  \n",
            "  inflating: COVID PATIENTS/COVID/covid_34.jpg  \n",
            "  inflating: COVID PATIENTS/COVID/covid_35.jpg  \n",
            "  inflating: COVID PATIENTS/COVID/covid_36.jpg  \n",
            "  inflating: COVID PATIENTS/COVID/covid_37.jpg  \n",
            "  inflating: COVID PATIENTS/COVID/covid_38.jpg  \n",
            "  inflating: COVID PATIENTS/COVID/covid_39.jpg  \n",
            "  inflating: COVID PATIENTS/COVID/covid_4.jpg  \n",
            "  inflating: COVID PATIENTS/COVID/covid_40.jpg  \n",
            "  inflating: COVID PATIENTS/COVID/covid_41.jpg  \n",
            "  inflating: COVID PATIENTS/COVID/covid_42.jpg  \n",
            "  inflating: COVID PATIENTS/COVID/covid_43.jpg  \n",
            "  inflating: COVID PATIENTS/COVID/covid_44.jpg  \n",
            "  inflating: COVID PATIENTS/COVID/covid_45.jpg  \n",
            "  inflating: COVID PATIENTS/COVID/covid_46.jpg  \n",
            "  inflating: COVID PATIENTS/COVID/covid_47.jpg  \n",
            "  inflating: COVID PATIENTS/COVID/covid_48.jpg  \n",
            "  inflating: COVID PATIENTS/COVID/covid_49.jpg  \n",
            "  inflating: COVID PATIENTS/COVID/covid_5.jpg  \n",
            "  inflating: COVID PATIENTS/COVID/covid_50.jpg  \n",
            "  inflating: COVID PATIENTS/COVID/covid_51.jpg  \n",
            "  inflating: COVID PATIENTS/COVID/covid_52.jpg  \n",
            "  inflating: COVID PATIENTS/COVID/covid_53.jpg  \n",
            "  inflating: COVID PATIENTS/COVID/covid_54.jpg  \n",
            "  inflating: COVID PATIENTS/COVID/covid_55.jpg  \n",
            "  inflating: COVID PATIENTS/COVID/covid_56.jpg  \n",
            "  inflating: COVID PATIENTS/COVID/covid_57.jpg  \n",
            "  inflating: COVID PATIENTS/COVID/covid_58.jpg  \n",
            "  inflating: COVID PATIENTS/COVID/covid_59.jpg  \n",
            "  inflating: COVID PATIENTS/COVID/covid_6.jpg  \n",
            "  inflating: COVID PATIENTS/COVID/covid_60.jpg  \n",
            "  inflating: COVID PATIENTS/COVID/covid_61.jpg  \n",
            "  inflating: COVID PATIENTS/COVID/covid_62.jpg  \n",
            "  inflating: COVID PATIENTS/COVID/covid_63.jpg  \n",
            "  inflating: COVID PATIENTS/COVID/covid_64.jpg  \n",
            "  inflating: COVID PATIENTS/COVID/covid_65.jpg  \n",
            "  inflating: COVID PATIENTS/COVID/covid_66.jpg  \n",
            "  inflating: COVID PATIENTS/COVID/covid_67.jpg  \n",
            "  inflating: COVID PATIENTS/COVID/covid_68.jpg  \n",
            "  inflating: COVID PATIENTS/COVID/covid_69.jpg  \n",
            "  inflating: COVID PATIENTS/COVID/covid_7.jpg  \n",
            "  inflating: COVID PATIENTS/COVID/covid_70.jpg  \n",
            "  inflating: COVID PATIENTS/COVID/covid_71.jpg  \n",
            "  inflating: COVID PATIENTS/COVID/covid_72.jpg  \n",
            "  inflating: COVID PATIENTS/COVID/covid_73.jpg  \n",
            "  inflating: COVID PATIENTS/COVID/covid_74.jpg  \n",
            "  inflating: COVID PATIENTS/COVID/covid_75.jpg  \n",
            "  inflating: COVID PATIENTS/COVID/covid_76.jpg  \n",
            "  inflating: COVID PATIENTS/COVID/covid_77.jpg  \n",
            "  inflating: COVID PATIENTS/COVID/covid_78.jpg  \n",
            "  inflating: COVID PATIENTS/COVID/covid_79.jpg  \n",
            "  inflating: COVID PATIENTS/COVID/covid_8.jpg  \n",
            "  inflating: COVID PATIENTS/COVID/covid_80.jpg  \n",
            "  inflating: COVID PATIENTS/COVID/covid_81.jpg  \n",
            "  inflating: COVID PATIENTS/COVID/covid_82.jpg  \n",
            "  inflating: COVID PATIENTS/COVID/covid_83.jpg  \n",
            "  inflating: COVID PATIENTS/COVID/covid_84.jpg  \n",
            "  inflating: COVID PATIENTS/COVID/covid_85.jpg  \n",
            "  inflating: COVID PATIENTS/COVID/covid_86.jpg  \n",
            "  inflating: COVID PATIENTS/COVID/covid_87.jpg  \n",
            "  inflating: COVID PATIENTS/COVID/covid_88.jpg  \n",
            "  inflating: COVID PATIENTS/COVID/covid_89.jpg  \n",
            "  inflating: COVID PATIENTS/COVID/covid_9.jpg  \n",
            "  inflating: COVID PATIENTS/COVID/covid_90.jpg  \n",
            "  inflating: COVID PATIENTS/COVID/covid_91.jpg  \n",
            "  inflating: COVID PATIENTS/COVID/covid_92.jpg  \n",
            "  inflating: COVID PATIENTS/COVID/covid_93.jpg  \n",
            "  inflating: COVID PATIENTS/COVID/covid_94.jpg  \n",
            "  inflating: COVID PATIENTS/COVID/covid_95.jpg  \n",
            "  inflating: COVID PATIENTS/COVID/covid_96.jpg  \n",
            "  inflating: COVID PATIENTS/COVID/covid_97.jpg  \n",
            "  inflating: COVID PATIENTS/COVID/covid_98.jpg  \n",
            "  inflating: COVID PATIENTS/COVID/covid_99.jpg  \n",
            "  inflating: NORMAL PATIENTS/NORMAL/normal_0.jpg  \n",
            "  inflating: NORMAL PATIENTS/NORMAL/normal_1.jpg  \n",
            "  inflating: NORMAL PATIENTS/NORMAL/normal_10.jpg  \n",
            "  inflating: NORMAL PATIENTS/NORMAL/normal_100.jpg  \n",
            "  inflating: NORMAL PATIENTS/NORMAL/normal_101.jpg  \n",
            "  inflating: NORMAL PATIENTS/NORMAL/normal_102.jpg  \n",
            "  inflating: NORMAL PATIENTS/NORMAL/normal_103.jpg  \n",
            "  inflating: NORMAL PATIENTS/NORMAL/normal_104.jpg  \n",
            "  inflating: NORMAL PATIENTS/NORMAL/normal_105.jpg  \n",
            "  inflating: NORMAL PATIENTS/NORMAL/normal_106.jpg  \n",
            "  inflating: NORMAL PATIENTS/NORMAL/normal_107.jpg  \n",
            "  inflating: NORMAL PATIENTS/NORMAL/normal_108.jpg  \n",
            "  inflating: NORMAL PATIENTS/NORMAL/normal_109.jpg  \n",
            "  inflating: NORMAL PATIENTS/NORMAL/normal_11.jpg  \n",
            "  inflating: NORMAL PATIENTS/NORMAL/normal_110.jpg  \n",
            "  inflating: NORMAL PATIENTS/NORMAL/normal_111.jpg  \n",
            "  inflating: NORMAL PATIENTS/NORMAL/normal_112.jpg  \n",
            "  inflating: NORMAL PATIENTS/NORMAL/normal_113.jpg  \n",
            "  inflating: NORMAL PATIENTS/NORMAL/normal_114.jpg  \n",
            "  inflating: NORMAL PATIENTS/NORMAL/normal_115.jpg  \n",
            "  inflating: NORMAL PATIENTS/NORMAL/normal_116.jpg  \n",
            "  inflating: NORMAL PATIENTS/NORMAL/normal_117.jpg  \n",
            "  inflating: NORMAL PATIENTS/NORMAL/normal_118.jpg  \n",
            "  inflating: NORMAL PATIENTS/NORMAL/normal_119.jpg  \n",
            "  inflating: NORMAL PATIENTS/NORMAL/normal_12.jpg  \n",
            "  inflating: NORMAL PATIENTS/NORMAL/normal_120.jpg  \n",
            "  inflating: NORMAL PATIENTS/NORMAL/normal_121.jpg  \n",
            "  inflating: NORMAL PATIENTS/NORMAL/normal_122.jpg  \n",
            "  inflating: NORMAL PATIENTS/NORMAL/normal_123.jpg  \n",
            "  inflating: NORMAL PATIENTS/NORMAL/normal_124.jpg  \n",
            "  inflating: NORMAL PATIENTS/NORMAL/normal_125.jpg  \n",
            "  inflating: NORMAL PATIENTS/NORMAL/normal_126.jpg  \n",
            "  inflating: NORMAL PATIENTS/NORMAL/normal_127.jpg  \n",
            "  inflating: NORMAL PATIENTS/NORMAL/normal_128.jpg  \n",
            "  inflating: NORMAL PATIENTS/NORMAL/normal_129.jpg  \n",
            "  inflating: NORMAL PATIENTS/NORMAL/normal_13.jpg  \n",
            "  inflating: NORMAL PATIENTS/NORMAL/normal_130.jpg  \n",
            "  inflating: NORMAL PATIENTS/NORMAL/normal_131.jpg  \n",
            "  inflating: NORMAL PATIENTS/NORMAL/normal_132.jpg  \n",
            "  inflating: NORMAL PATIENTS/NORMAL/normal_133.jpg  \n",
            "  inflating: NORMAL PATIENTS/NORMAL/normal_134.jpg  \n",
            "  inflating: NORMAL PATIENTS/NORMAL/normal_135.jpg  \n",
            "  inflating: NORMAL PATIENTS/NORMAL/normal_136.jpg  \n",
            "  inflating: NORMAL PATIENTS/NORMAL/normal_137.jpg  \n",
            "  inflating: NORMAL PATIENTS/NORMAL/normal_138.jpg  \n",
            "  inflating: NORMAL PATIENTS/NORMAL/normal_139.jpg  \n",
            "  inflating: NORMAL PATIENTS/NORMAL/normal_14.jpg  \n",
            "  inflating: NORMAL PATIENTS/NORMAL/normal_140.jpg  \n",
            "  inflating: NORMAL PATIENTS/NORMAL/normal_141.jpg  \n",
            "  inflating: NORMAL PATIENTS/NORMAL/normal_142.jpg  \n",
            "  inflating: NORMAL PATIENTS/NORMAL/normal_143.jpg  \n",
            "  inflating: NORMAL PATIENTS/NORMAL/normal_144.jpg  \n",
            "  inflating: NORMAL PATIENTS/NORMAL/normal_145.jpg  \n",
            "  inflating: NORMAL PATIENTS/NORMAL/normal_146.jpg  \n",
            "  inflating: NORMAL PATIENTS/NORMAL/normal_147.jpg  \n",
            "  inflating: NORMAL PATIENTS/NORMAL/normal_148.jpg  \n",
            "  inflating: NORMAL PATIENTS/NORMAL/normal_149.jpg  \n",
            "  inflating: NORMAL PATIENTS/NORMAL/normal_15.jpg  \n",
            "  inflating: NORMAL PATIENTS/NORMAL/normal_150.jpg  \n",
            "  inflating: NORMAL PATIENTS/NORMAL/normal_151.jpg  \n",
            "  inflating: NORMAL PATIENTS/NORMAL/normal_152.jpg  \n",
            "  inflating: NORMAL PATIENTS/NORMAL/normal_153.jpg  \n",
            "  inflating: NORMAL PATIENTS/NORMAL/normal_154.jpg  \n",
            "  inflating: NORMAL PATIENTS/NORMAL/normal_155.jpg  \n",
            "  inflating: NORMAL PATIENTS/NORMAL/normal_156.jpg  \n",
            "  inflating: NORMAL PATIENTS/NORMAL/normal_157.jpg  \n",
            "  inflating: NORMAL PATIENTS/NORMAL/normal_158.jpg  \n",
            "  inflating: NORMAL PATIENTS/NORMAL/normal_159.jpg  \n",
            "  inflating: NORMAL PATIENTS/NORMAL/normal_16.jpg  \n",
            "  inflating: NORMAL PATIENTS/NORMAL/normal_160.jpg  \n",
            "  inflating: NORMAL PATIENTS/NORMAL/normal_161.jpg  \n",
            "  inflating: NORMAL PATIENTS/NORMAL/normal_17.jpg  \n",
            "  inflating: NORMAL PATIENTS/NORMAL/normal_18.jpg  \n",
            "  inflating: NORMAL PATIENTS/NORMAL/normal_19.jpg  \n",
            "  inflating: NORMAL PATIENTS/NORMAL/normal_2.jpg  \n",
            "  inflating: NORMAL PATIENTS/NORMAL/normal_20.jpg  \n",
            "  inflating: NORMAL PATIENTS/NORMAL/normal_21.jpg  \n",
            "  inflating: NORMAL PATIENTS/NORMAL/normal_22.jpg  \n",
            "  inflating: NORMAL PATIENTS/NORMAL/normal_23.jpg  \n",
            "  inflating: NORMAL PATIENTS/NORMAL/normal_24.jpg  \n",
            "  inflating: NORMAL PATIENTS/NORMAL/normal_25.jpg  \n",
            "  inflating: NORMAL PATIENTS/NORMAL/normal_26.jpg  \n",
            "  inflating: NORMAL PATIENTS/NORMAL/normal_27.jpg  \n",
            "  inflating: NORMAL PATIENTS/NORMAL/normal_28.jpg  \n",
            "  inflating: NORMAL PATIENTS/NORMAL/normal_29.jpg  \n",
            "  inflating: NORMAL PATIENTS/NORMAL/normal_3.jpg  \n",
            "  inflating: NORMAL PATIENTS/NORMAL/normal_30.jpg  \n",
            "  inflating: NORMAL PATIENTS/NORMAL/normal_31.jpg  \n",
            "  inflating: NORMAL PATIENTS/NORMAL/normal_32.jpg  \n",
            "  inflating: NORMAL PATIENTS/NORMAL/normal_33.jpg  \n",
            "  inflating: NORMAL PATIENTS/NORMAL/normal_34.jpg  \n",
            "  inflating: NORMAL PATIENTS/NORMAL/normal_35.jpg  \n",
            "  inflating: NORMAL PATIENTS/NORMAL/normal_36.jpg  \n",
            "  inflating: NORMAL PATIENTS/NORMAL/normal_37.jpg  \n",
            "  inflating: NORMAL PATIENTS/NORMAL/normal_38.jpg  \n",
            "  inflating: NORMAL PATIENTS/NORMAL/normal_39.jpg  \n",
            "  inflating: NORMAL PATIENTS/NORMAL/normal_4.jpg  \n",
            "  inflating: NORMAL PATIENTS/NORMAL/normal_40.jpg  \n",
            "  inflating: NORMAL PATIENTS/NORMAL/normal_41.jpg  \n",
            "  inflating: NORMAL PATIENTS/NORMAL/normal_42.jpg  \n",
            "  inflating: NORMAL PATIENTS/NORMAL/normal_43.jpg  \n",
            "  inflating: NORMAL PATIENTS/NORMAL/normal_44.jpg  \n",
            "  inflating: NORMAL PATIENTS/NORMAL/normal_45.jpg  \n",
            "  inflating: NORMAL PATIENTS/NORMAL/normal_46.jpg  \n",
            "  inflating: NORMAL PATIENTS/NORMAL/normal_47.jpg  \n",
            "  inflating: NORMAL PATIENTS/NORMAL/normal_48.jpg  \n",
            "  inflating: NORMAL PATIENTS/NORMAL/normal_49.jpg  \n",
            "  inflating: NORMAL PATIENTS/NORMAL/normal_5.jpg  \n",
            "  inflating: NORMAL PATIENTS/NORMAL/normal_50.jpg  \n",
            "  inflating: NORMAL PATIENTS/NORMAL/normal_51.jpg  \n",
            "  inflating: NORMAL PATIENTS/NORMAL/normal_52.jpg  \n",
            "  inflating: NORMAL PATIENTS/NORMAL/normal_53.jpg  \n",
            "  inflating: NORMAL PATIENTS/NORMAL/normal_54.jpg  \n",
            "  inflating: NORMAL PATIENTS/NORMAL/normal_55.jpg  \n",
            "  inflating: NORMAL PATIENTS/NORMAL/normal_56.jpg  \n",
            "  inflating: NORMAL PATIENTS/NORMAL/normal_57.jpg  \n",
            "  inflating: NORMAL PATIENTS/NORMAL/normal_58.jpg  \n",
            "  inflating: NORMAL PATIENTS/NORMAL/normal_59.jpg  \n",
            "  inflating: NORMAL PATIENTS/NORMAL/normal_6.jpg  \n",
            "  inflating: NORMAL PATIENTS/NORMAL/normal_60.jpg  \n",
            "  inflating: NORMAL PATIENTS/NORMAL/normal_61.jpg  \n",
            "  inflating: NORMAL PATIENTS/NORMAL/normal_62.jpg  \n",
            "  inflating: NORMAL PATIENTS/NORMAL/normal_63.jpg  \n",
            "  inflating: NORMAL PATIENTS/NORMAL/normal_64.jpg  \n",
            "  inflating: NORMAL PATIENTS/NORMAL/normal_65.jpg  \n",
            "  inflating: NORMAL PATIENTS/NORMAL/normal_66.jpg  \n",
            "  inflating: NORMAL PATIENTS/NORMAL/normal_67.jpg  \n",
            "  inflating: NORMAL PATIENTS/NORMAL/normal_68.jpg  \n",
            "  inflating: NORMAL PATIENTS/NORMAL/normal_69.jpg  \n",
            "  inflating: NORMAL PATIENTS/NORMAL/normal_7.jpg  \n",
            "  inflating: NORMAL PATIENTS/NORMAL/normal_70.jpg  \n",
            "  inflating: NORMAL PATIENTS/NORMAL/normal_71.jpg  \n",
            "  inflating: NORMAL PATIENTS/NORMAL/normal_72.jpg  \n",
            "  inflating: NORMAL PATIENTS/NORMAL/normal_73.jpg  \n",
            "  inflating: NORMAL PATIENTS/NORMAL/normal_74.jpg  \n",
            "  inflating: NORMAL PATIENTS/NORMAL/normal_75.jpg  \n",
            "  inflating: NORMAL PATIENTS/NORMAL/normal_76.jpg  \n",
            "  inflating: NORMAL PATIENTS/NORMAL/normal_77.jpg  \n",
            "  inflating: NORMAL PATIENTS/NORMAL/normal_78.jpg  \n",
            "  inflating: NORMAL PATIENTS/NORMAL/normal_79.jpg  \n",
            "  inflating: NORMAL PATIENTS/NORMAL/normal_8.jpg  \n",
            "  inflating: NORMAL PATIENTS/NORMAL/normal_80.jpg  \n",
            "  inflating: NORMAL PATIENTS/NORMAL/normal_81.jpg  \n",
            "  inflating: NORMAL PATIENTS/NORMAL/normal_82.jpg  \n",
            "  inflating: NORMAL PATIENTS/NORMAL/normal_83.jpg  \n",
            "  inflating: NORMAL PATIENTS/NORMAL/normal_84.jpg  \n",
            "  inflating: NORMAL PATIENTS/NORMAL/normal_85.jpg  \n",
            "  inflating: NORMAL PATIENTS/NORMAL/normal_86.jpg  \n",
            "  inflating: NORMAL PATIENTS/NORMAL/normal_87.jpg  \n",
            "  inflating: NORMAL PATIENTS/NORMAL/normal_88.jpg  \n",
            "  inflating: NORMAL PATIENTS/NORMAL/normal_89.jpg  \n",
            "  inflating: NORMAL PATIENTS/NORMAL/normal_9.jpg  \n",
            "  inflating: NORMAL PATIENTS/NORMAL/normal_90.jpg  \n",
            "  inflating: NORMAL PATIENTS/NORMAL/normal_91.jpg  \n",
            "  inflating: NORMAL PATIENTS/NORMAL/normal_92.jpg  \n",
            "  inflating: NORMAL PATIENTS/NORMAL/normal_93.jpg  \n",
            "  inflating: NORMAL PATIENTS/NORMAL/normal_94.jpg  \n",
            "  inflating: NORMAL PATIENTS/NORMAL/normal_95.jpg  \n",
            "  inflating: NORMAL PATIENTS/NORMAL/normal_96.jpg  \n",
            "  inflating: NORMAL PATIENTS/NORMAL/normal_97.jpg  \n",
            "  inflating: NORMAL PATIENTS/NORMAL/normal_98.jpg  \n",
            "  inflating: NORMAL PATIENTS/NORMAL/normal_99.jpg  \n"
          ]
        }
      ]
    },
    {
      "cell_type": "code",
      "source": [
        "import pandas as pd\n",
        "import numpy as np\n",
        "import os\n",
        "import matplotlib.pyplot as plt\n",
        "from skimage import feature\n",
        "import cv2"
      ],
      "metadata": {
        "id": "wmFOWCJaQaKv"
      },
      "execution_count": null,
      "outputs": []
    },
    {
      "cell_type": "code",
      "source": [
        "DIR_normal=os.listdir('/content/COVID PATIENTS/COVID')\n",
        "DIR_covid=os.listdir('/content/NORMAL PATIENTS/NORMAL')\n",
        "print(len(DIR_normal))\n",
        "print(len(DIR_covid))\n",
        "normal_covid=[]\n",
        "normal_covid.extend(DIR_normal)\n",
        "normal_covid.extend(DIR_covid)\n",
        "print(len(normal_covid))\n",
        "normal_covid[:5]"
      ],
      "metadata": {
        "colab": {
          "base_uri": "https://localhost:8080/"
        },
        "id": "E3a3adS6RIV2",
        "outputId": "b8570318-3e71-4aea-fdef-7879a61823b4"
      },
      "execution_count": null,
      "outputs": [
        {
          "output_type": "stream",
          "name": "stdout",
          "text": [
            "162\n",
            "162\n",
            "324\n"
          ]
        },
        {
          "output_type": "execute_result",
          "data": {
            "text/plain": [
              "['covid_31.jpg',\n",
              " 'covid_45.jpg',\n",
              " 'covid_44.jpg',\n",
              " 'covid_98.jpg',\n",
              " 'covid_156.jpg']"
            ]
          },
          "metadata": {},
          "execution_count": 5
        }
      ]
    },
    {
      "cell_type": "code",
      "source": [
        "label=[]\n",
        "image=[]\n",
        "for i in normal_covid:\n",
        "    if  i.split('_')[0]=='normal':\n",
        "        img=cv2.imread('/content/NORMAL PATIENTS/NORMAL/'+i)\n",
        "        img = cv2.resize(img, (244, 244))\n",
        "        hog_desc = feature.hog(img, orientations=9, pixels_per_cell=(8, 8),\n",
        "            cells_per_block=(2,2), transform_sqrt=True, block_norm='L2-Hys')\n",
        "        image.append(hog_desc)\n",
        "        label.append(0)\n",
        "    else:\n",
        "        img=cv2.imread('/content/COVID PATIENTS/COVID/'+i)\n",
        "        img = cv2.resize(img, (244, 244))\n",
        "        hog_desc = feature.hog(img, orientations=9, pixels_per_cell=(8, 8),\n",
        "            cells_per_block=(2,2), transform_sqrt=True, block_norm='L2-Hys')\n",
        "        image.append(hog_desc)\n",
        "        label.append(1)"
      ],
      "metadata": {
        "id": "H9VmLO8KRR16"
      },
      "execution_count": null,
      "outputs": []
    },
    {
      "cell_type": "code",
      "source": [
        "print(len(image))\n",
        "print(len(label))"
      ],
      "metadata": {
        "colab": {
          "base_uri": "https://localhost:8080/"
        },
        "id": "MWKIO27BR-Tb",
        "outputId": "9ddf5472-2d76-4b6a-8d41-326fa99f70cd"
      },
      "execution_count": null,
      "outputs": [
        {
          "output_type": "stream",
          "name": "stdout",
          "text": [
            "324\n",
            "324\n"
          ]
        }
      ]
    },
    {
      "cell_type": "code",
      "source": [
        "data=np.array(list(zip(image,label)))"
      ],
      "metadata": {
        "colab": {
          "base_uri": "https://localhost:8080/"
        },
        "id": "KaoIwQagSAvY",
        "outputId": "760c0e46-f41e-4bd0-ea11-d2d87baba184"
      },
      "execution_count": null,
      "outputs": [
        {
          "output_type": "stream",
          "name": "stderr",
          "text": [
            "/usr/local/lib/python3.7/dist-packages/ipykernel_launcher.py:1: VisibleDeprecationWarning: Creating an ndarray from ragged nested sequences (which is a list-or-tuple of lists-or-tuples-or ndarrays with different lengths or shapes) is deprecated. If you meant to do this, you must specify 'dtype=object' when creating the ndarray.\n",
            "  \"\"\"Entry point for launching an IPython kernel.\n"
          ]
        }
      ]
    },
    {
      "cell_type": "code",
      "source": [
        "from sklearn.model_selection import train_test_split\n",
        "X_train, X_test, y_train, y_test= train_test_split(data[:,0],data[:,1],test_size=0.2,random_state=35)"
      ],
      "metadata": {
        "id": "zrFW9IOuSD8E"
      },
      "execution_count": null,
      "outputs": []
    },
    {
      "cell_type": "code",
      "source": [
        "list(y_train)"
      ],
      "metadata": {
        "id": "nT8drANEXWzp"
      },
      "execution_count": null,
      "outputs": []
    },
    {
      "cell_type": "code",
      "source": [
        "type(image)"
      ],
      "metadata": {
        "colab": {
          "base_uri": "https://localhost:8080/"
        },
        "id": "pJ5H_hSAiCD5",
        "outputId": "15ef9efc-9d5f-402e-d0c8-11f54ff5d928"
      },
      "execution_count": null,
      "outputs": [
        {
          "output_type": "execute_result",
          "data": {
            "text/plain": [
              "list"
            ]
          },
          "metadata": {},
          "execution_count": 29
        }
      ]
    },
    {
      "cell_type": "code",
      "source": [
        "img=cv2.imread('/content/COVID PATIENTS/COVID/covid_111.jpg')\n",
        "img = cv2.resize(img, (244, 244))\n",
        "hog_desc = feature.hog(img, orientations=9, pixels_per_cell=(8, 8),\n",
        "            cells_per_block=(2, 2), transform_sqrt=True, block_norm='L2-Hys')\n",
        "pred= svm_model.predict(hog_desc.reshape(1,-1))"
      ],
      "metadata": {
        "id": "1C-eSYCXUjAd"
      },
      "execution_count": null,
      "outputs": []
    },
    {
      "cell_type": "code",
      "source": [
        "np.mean(pred==y_test)"
      ],
      "metadata": {
        "colab": {
          "base_uri": "https://localhost:8080/"
        },
        "id": "PyUKuGkTVHeo",
        "outputId": "e64454be-ad9b-4595-9d30-5e287dbbd9f0"
      },
      "execution_count": null,
      "outputs": [
        {
          "output_type": "execute_result",
          "data": {
            "text/plain": [
              "0.8923076923076924"
            ]
          },
          "metadata": {},
          "execution_count": 14
        }
      ]
    },
    {
      "cell_type": "code",
      "source": [
        "from sklearn.ensemble import RandomForestClassifier\n",
        "clf= RandomForestClassifier(n_estimators=150,n_jobs=-1)\n",
        "clf.fit(list(X_train),list(y_train))\n",
        "pred=clf.predict(list(X_test))\n",
        "np.mean(pred==y_test)"
      ],
      "metadata": {
        "colab": {
          "base_uri": "https://localhost:8080/"
        },
        "id": "-oEj5LEYjGrt",
        "outputId": "1c88cfe8-8410-4b57-b2c5-a8fb914d02d3"
      },
      "execution_count": null,
      "outputs": [
        {
          "output_type": "execute_result",
          "data": {
            "text/plain": [
              "0.9230769230769231"
            ]
          },
          "metadata": {},
          "execution_count": 57
        }
      ]
    },
    {
      "cell_type": "code",
      "source": [
        "import joblib\n",
        "joblib.dump(clf, 'model.joblib')"
      ],
      "metadata": {
        "id": "xbPBu4d1limK",
        "colab": {
          "base_uri": "https://localhost:8080/"
        },
        "outputId": "1dfbac44-d52f-4103-c135-9ba44895c9e9"
      },
      "execution_count": null,
      "outputs": [
        {
          "output_type": "execute_result",
          "data": {
            "text/plain": [
              "['model.joblib']"
            ]
          },
          "metadata": {},
          "execution_count": 56
        }
      ]
    },
    {
      "cell_type": "code",
      "source": [
        "from sklearn.metrics import confusion_matrix\n",
        "conf_matrix = confusion_matrix(y_true=y_test.astype(int), y_pred=pred)\n",
        "\n",
        "fig, ax = plt.subplots(figsize=(7.5, 7.5))\n",
        "ax.matshow(conf_matrix, cmap=plt.cm.Blues, alpha=0.3)\n",
        "for i in range(conf_matrix.shape[0]):\n",
        "    for j in range(conf_matrix.shape[1]):\n",
        "        ax.text(x=j, y=i,s=conf_matrix[i, j], va='center', ha='center', size='xx-large')\n",
        " \n",
        "plt.xlabel('Predictions', fontsize=18)\n",
        "plt.ylabel('Actuals', fontsize=18)\n",
        "plt.title('Confusion Matrix', fontsize=18)\n",
        "plt.show()"
      ],
      "metadata": {
        "id": "HMw0dtGxzVPl",
        "colab": {
          "base_uri": "https://localhost:8080/",
          "height": 501
        },
        "outputId": "b6fe8fc1-1470-4919-f485-daa7858249d9"
      },
      "execution_count": null,
      "outputs": [
        {
          "output_type": "display_data",
          "data": {
            "text/plain": [
              "<Figure size 540x540 with 1 Axes>"
            ],
            "image/png": "[encoded data removed]"
          },
          "metadata": {
            "needs_background": "light"
          }
        }
      ]
    },
    {
      "cell_type": "code",
      "source": [
        "y_test.astype(int)"
      ],
      "metadata": {
        "colab": {
          "base_uri": "https://localhost:8080/"
        },
        "id": "abnlHzdncHDB",
        "outputId": "ab827aca-3c38-4d52-fbf7-0bbcef16c96a"
      },
      "execution_count": null,
      "outputs": [
        {
          "output_type": "execute_result",
          "data": {
            "text/plain": [
              "array([1, 0, 0, 1, 0, 0, 0, 1, 0, 1, 1, 1, 1, 0, 0, 1, 1, 1, 1, 1, 1, 1,\n",
              "       1, 0, 1, 0, 1, 1, 1, 0, 1, 0, 1, 1, 0, 1, 1, 0, 0, 0, 1, 0, 1, 0,\n",
              "       1, 1, 1, 0, 0, 0, 1, 0, 1, 0, 1, 0, 0, 1, 0, 0, 0, 0, 1, 0, 0])"
            ]
          },
          "metadata": {},
          "execution_count": 65
        }
      ]
    },
    {
      "cell_type": "code",
      "source": [
        "pred"
      ],
      "metadata": {
        "colab": {
          "base_uri": "https://localhost:8080/"
        },
        "id": "sShA8lJ7cOFq",
        "outputId": "1ae88b90-362b-4ad8-9d20-72cdfad94f9f"
      },
      "execution_count": null,
      "outputs": [
        {
          "output_type": "execute_result",
          "data": {
            "text/plain": [
              "array([1, 0, 0, 1, 0, 0, 0, 1, 0, 1, 1, 1, 1, 0, 0, 1, 1, 1, 1, 1, 1, 1,\n",
              "       1, 1, 1, 0, 1, 1, 1, 0, 0, 0, 1, 1, 0, 1, 1, 0, 0, 0, 1, 0, 1, 0,\n",
              "       0, 1, 0, 0, 0, 1, 1, 0, 1, 0, 1, 0, 0, 1, 0, 0, 0, 0, 1, 0, 0])"
            ]
          },
          "metadata": {},
          "execution_count": 62
        }
      ]
    },
    {
      "cell_type": "code",
      "source": [
        "clf.feature_importances_.shape"
      ],
      "metadata": {
        "colab": {
          "base_uri": "https://localhost:8080/"
        },
        "id": "ZOKx0a_kcicQ",
        "outputId": "572113c0-d310-4262-870b-4f4410163697"
      },
      "execution_count": null,
      "outputs": [
        {
          "output_type": "execute_result",
          "data": {
            "text/plain": [
              "(30276,)"
            ]
          },
          "metadata": {},
          "execution_count": 68
        }
      ]
    }
  ]
}